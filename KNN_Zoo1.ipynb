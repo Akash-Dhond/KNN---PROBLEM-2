{
  "cells": [
    {
      "cell_type": "markdown",
      "metadata": {
        "id": "ep8SDvFHw6R9"
      },
      "source": [
        "### Import libraries"
      ]
    },
    {
      "cell_type": "code",
      "execution_count": 12,
      "metadata": {
        "id": "z0LdnH92w6R_"
      },
      "outputs": [],
      "source": [
        "import pandas as pd\n",
        "import numpy as np\n",
        "\n",
        "import matplotlib.pyplot as plt \n",
        "import seaborn as sns\n",
        "import warnings\n",
        "warnings.filterwarnings(\"ignore\")\n",
        "%matplotlib inline\n",
        "\n",
        "from sklearn.model_selection import GridSearchCV\n",
        "from sklearn.model_selection import KFold,train_test_split\n",
        "from sklearn.model_selection import cross_val_score\n",
        "from sklearn.neighbors import KNeighborsClassifier\n",
        "from sklearn.metrics import accuracy_score\n",
        "\n",
        "import warnings\n",
        "warnings.filterwarnings('ignore')"
      ]
    },
    {
      "cell_type": "markdown",
      "metadata": {
        "id": "iJTWVwFTw6SB"
      },
      "source": [
        "### Reading the input csv file"
      ]
    },
    {
      "cell_type": "code",
      "execution_count": 13,
      "metadata": {
        "colab": {
          "base_uri": "https://localhost:8080/",
          "height": 287
        },
        "id": "ZLgUR4Ixw6SC",
        "outputId": "5b83b680-9ccd-43ba-cd77-70d68d901954"
      },
      "outputs": [
        {
          "output_type": "execute_result",
          "data": {
            "text/plain": [
              "  animal name  hair  feathers  eggs  milk  airborne  aquatic  predator  \\\n",
              "0    aardvark     1         0     0     1         0        0         1   \n",
              "1    antelope     1         0     0     1         0        0         0   \n",
              "2        bass     0         0     1     0         0        1         1   \n",
              "3        bear     1         0     0     1         0        0         1   \n",
              "4        boar     1         0     0     1         0        0         1   \n",
              "\n",
              "   toothed  backbone  breathes  venomous  fins  legs  tail  domestic  catsize  \\\n",
              "0        1         1         1         0     0     4     0         0        1   \n",
              "1        1         1         1         0     0     4     1         0        1   \n",
              "2        1         1         0         0     1     0     1         0        0   \n",
              "3        1         1         1         0     0     4     0         0        1   \n",
              "4        1         1         1         0     0     4     1         0        1   \n",
              "\n",
              "   type  \n",
              "0     1  \n",
              "1     1  \n",
              "2     4  \n",
              "3     1  \n",
              "4     1  "
            ],
            "text/html": [
              "\n",
              "  <div id=\"df-1afdcb36-ab59-4d70-895a-2f5518be7e85\">\n",
              "    <div class=\"colab-df-container\">\n",
              "      <div>\n",
              "<style scoped>\n",
              "    .dataframe tbody tr th:only-of-type {\n",
              "        vertical-align: middle;\n",
              "    }\n",
              "\n",
              "    .dataframe tbody tr th {\n",
              "        vertical-align: top;\n",
              "    }\n",
              "\n",
              "    .dataframe thead th {\n",
              "        text-align: right;\n",
              "    }\n",
              "</style>\n",
              "<table border=\"1\" class=\"dataframe\">\n",
              "  <thead>\n",
              "    <tr style=\"text-align: right;\">\n",
              "      <th></th>\n",
              "      <th>animal name</th>\n",
              "      <th>hair</th>\n",
              "      <th>feathers</th>\n",
              "      <th>eggs</th>\n",
              "      <th>milk</th>\n",
              "      <th>airborne</th>\n",
              "      <th>aquatic</th>\n",
              "      <th>predator</th>\n",
              "      <th>toothed</th>\n",
              "      <th>backbone</th>\n",
              "      <th>breathes</th>\n",
              "      <th>venomous</th>\n",
              "      <th>fins</th>\n",
              "      <th>legs</th>\n",
              "      <th>tail</th>\n",
              "      <th>domestic</th>\n",
              "      <th>catsize</th>\n",
              "      <th>type</th>\n",
              "    </tr>\n",
              "  </thead>\n",
              "  <tbody>\n",
              "    <tr>\n",
              "      <th>0</th>\n",
              "      <td>aardvark</td>\n",
              "      <td>1</td>\n",
              "      <td>0</td>\n",
              "      <td>0</td>\n",
              "      <td>1</td>\n",
              "      <td>0</td>\n",
              "      <td>0</td>\n",
              "      <td>1</td>\n",
              "      <td>1</td>\n",
              "      <td>1</td>\n",
              "      <td>1</td>\n",
              "      <td>0</td>\n",
              "      <td>0</td>\n",
              "      <td>4</td>\n",
              "      <td>0</td>\n",
              "      <td>0</td>\n",
              "      <td>1</td>\n",
              "      <td>1</td>\n",
              "    </tr>\n",
              "    <tr>\n",
              "      <th>1</th>\n",
              "      <td>antelope</td>\n",
              "      <td>1</td>\n",
              "      <td>0</td>\n",
              "      <td>0</td>\n",
              "      <td>1</td>\n",
              "      <td>0</td>\n",
              "      <td>0</td>\n",
              "      <td>0</td>\n",
              "      <td>1</td>\n",
              "      <td>1</td>\n",
              "      <td>1</td>\n",
              "      <td>0</td>\n",
              "      <td>0</td>\n",
              "      <td>4</td>\n",
              "      <td>1</td>\n",
              "      <td>0</td>\n",
              "      <td>1</td>\n",
              "      <td>1</td>\n",
              "    </tr>\n",
              "    <tr>\n",
              "      <th>2</th>\n",
              "      <td>bass</td>\n",
              "      <td>0</td>\n",
              "      <td>0</td>\n",
              "      <td>1</td>\n",
              "      <td>0</td>\n",
              "      <td>0</td>\n",
              "      <td>1</td>\n",
              "      <td>1</td>\n",
              "      <td>1</td>\n",
              "      <td>1</td>\n",
              "      <td>0</td>\n",
              "      <td>0</td>\n",
              "      <td>1</td>\n",
              "      <td>0</td>\n",
              "      <td>1</td>\n",
              "      <td>0</td>\n",
              "      <td>0</td>\n",
              "      <td>4</td>\n",
              "    </tr>\n",
              "    <tr>\n",
              "      <th>3</th>\n",
              "      <td>bear</td>\n",
              "      <td>1</td>\n",
              "      <td>0</td>\n",
              "      <td>0</td>\n",
              "      <td>1</td>\n",
              "      <td>0</td>\n",
              "      <td>0</td>\n",
              "      <td>1</td>\n",
              "      <td>1</td>\n",
              "      <td>1</td>\n",
              "      <td>1</td>\n",
              "      <td>0</td>\n",
              "      <td>0</td>\n",
              "      <td>4</td>\n",
              "      <td>0</td>\n",
              "      <td>0</td>\n",
              "      <td>1</td>\n",
              "      <td>1</td>\n",
              "    </tr>\n",
              "    <tr>\n",
              "      <th>4</th>\n",
              "      <td>boar</td>\n",
              "      <td>1</td>\n",
              "      <td>0</td>\n",
              "      <td>0</td>\n",
              "      <td>1</td>\n",
              "      <td>0</td>\n",
              "      <td>0</td>\n",
              "      <td>1</td>\n",
              "      <td>1</td>\n",
              "      <td>1</td>\n",
              "      <td>1</td>\n",
              "      <td>0</td>\n",
              "      <td>0</td>\n",
              "      <td>4</td>\n",
              "      <td>1</td>\n",
              "      <td>0</td>\n",
              "      <td>1</td>\n",
              "      <td>1</td>\n",
              "    </tr>\n",
              "  </tbody>\n",
              "</table>\n",
              "</div>\n",
              "      <button class=\"colab-df-convert\" onclick=\"convertToInteractive('df-1afdcb36-ab59-4d70-895a-2f5518be7e85')\"\n",
              "              title=\"Convert this dataframe to an interactive table.\"\n",
              "              style=\"display:none;\">\n",
              "        \n",
              "  <svg xmlns=\"http://www.w3.org/2000/svg\" height=\"24px\"viewBox=\"0 0 24 24\"\n",
              "       width=\"24px\">\n",
              "    <path d=\"M0 0h24v24H0V0z\" fill=\"none\"/>\n",
              "    <path d=\"M18.56 5.44l.94 2.06.94-2.06 2.06-.94-2.06-.94-.94-2.06-.94 2.06-2.06.94zm-11 1L8.5 8.5l.94-2.06 2.06-.94-2.06-.94L8.5 2.5l-.94 2.06-2.06.94zm10 10l.94 2.06.94-2.06 2.06-.94-2.06-.94-.94-2.06-.94 2.06-2.06.94z\"/><path d=\"M17.41 7.96l-1.37-1.37c-.4-.4-.92-.59-1.43-.59-.52 0-1.04.2-1.43.59L10.3 9.45l-7.72 7.72c-.78.78-.78 2.05 0 2.83L4 21.41c.39.39.9.59 1.41.59.51 0 1.02-.2 1.41-.59l7.78-7.78 2.81-2.81c.8-.78.8-2.07 0-2.86zM5.41 20L4 18.59l7.72-7.72 1.47 1.35L5.41 20z\"/>\n",
              "  </svg>\n",
              "      </button>\n",
              "      \n",
              "  <style>\n",
              "    .colab-df-container {\n",
              "      display:flex;\n",
              "      flex-wrap:wrap;\n",
              "      gap: 12px;\n",
              "    }\n",
              "\n",
              "    .colab-df-convert {\n",
              "      background-color: #E8F0FE;\n",
              "      border: none;\n",
              "      border-radius: 50%;\n",
              "      cursor: pointer;\n",
              "      display: none;\n",
              "      fill: #1967D2;\n",
              "      height: 32px;\n",
              "      padding: 0 0 0 0;\n",
              "      width: 32px;\n",
              "    }\n",
              "\n",
              "    .colab-df-convert:hover {\n",
              "      background-color: #E2EBFA;\n",
              "      box-shadow: 0px 1px 2px rgba(60, 64, 67, 0.3), 0px 1px 3px 1px rgba(60, 64, 67, 0.15);\n",
              "      fill: #174EA6;\n",
              "    }\n",
              "\n",
              "    [theme=dark] .colab-df-convert {\n",
              "      background-color: #3B4455;\n",
              "      fill: #D2E3FC;\n",
              "    }\n",
              "\n",
              "    [theme=dark] .colab-df-convert:hover {\n",
              "      background-color: #434B5C;\n",
              "      box-shadow: 0px 1px 3px 1px rgba(0, 0, 0, 0.15);\n",
              "      filter: drop-shadow(0px 1px 2px rgba(0, 0, 0, 0.3));\n",
              "      fill: #FFFFFF;\n",
              "    }\n",
              "  </style>\n",
              "\n",
              "      <script>\n",
              "        const buttonEl =\n",
              "          document.querySelector('#df-1afdcb36-ab59-4d70-895a-2f5518be7e85 button.colab-df-convert');\n",
              "        buttonEl.style.display =\n",
              "          google.colab.kernel.accessAllowed ? 'block' : 'none';\n",
              "\n",
              "        async function convertToInteractive(key) {\n",
              "          const element = document.querySelector('#df-1afdcb36-ab59-4d70-895a-2f5518be7e85');\n",
              "          const dataTable =\n",
              "            await google.colab.kernel.invokeFunction('convertToInteractive',\n",
              "                                                     [key], {});\n",
              "          if (!dataTable) return;\n",
              "\n",
              "          const docLinkHtml = 'Like what you see? Visit the ' +\n",
              "            '<a target=\"_blank\" href=https://colab.research.google.com/notebooks/data_table.ipynb>data table notebook</a>'\n",
              "            + ' to learn more about interactive tables.';\n",
              "          element.innerHTML = '';\n",
              "          dataTable['output_type'] = 'display_data';\n",
              "          await google.colab.output.renderOutput(dataTable, element);\n",
              "          const docLink = document.createElement('div');\n",
              "          docLink.innerHTML = docLinkHtml;\n",
              "          element.appendChild(docLink);\n",
              "        }\n",
              "      </script>\n",
              "    </div>\n",
              "  </div>\n",
              "  "
            ]
          },
          "metadata": {},
          "execution_count": 13
        }
      ],
      "source": [
        "zoo_data=pd.read_csv(\"/content/Zoo.csv\")\n",
        "zoo_data.head()"
      ]
    },
    {
      "cell_type": "markdown",
      "metadata": {
        "id": "_VVAImLRw6SF"
      },
      "source": [
        "### Checking for the null values and data types of the input data"
      ]
    },
    {
      "cell_type": "code",
      "execution_count": 14,
      "metadata": {
        "colab": {
          "base_uri": "https://localhost:8080/"
        },
        "id": "-HHNrQQ5w6SG",
        "outputId": "6572b39c-58e8-4615-9ba6-e3548f98ce54"
      },
      "outputs": [
        {
          "output_type": "stream",
          "name": "stdout",
          "text": [
            "<class 'pandas.core.frame.DataFrame'>\n",
            "RangeIndex: 101 entries, 0 to 100\n",
            "Data columns (total 18 columns):\n",
            " #   Column       Non-Null Count  Dtype \n",
            "---  ------       --------------  ----- \n",
            " 0   animal name  101 non-null    object\n",
            " 1   hair         101 non-null    int64 \n",
            " 2   feathers     101 non-null    int64 \n",
            " 3   eggs         101 non-null    int64 \n",
            " 4   milk         101 non-null    int64 \n",
            " 5   airborne     101 non-null    int64 \n",
            " 6   aquatic      101 non-null    int64 \n",
            " 7   predator     101 non-null    int64 \n",
            " 8   toothed      101 non-null    int64 \n",
            " 9   backbone     101 non-null    int64 \n",
            " 10  breathes     101 non-null    int64 \n",
            " 11  venomous     101 non-null    int64 \n",
            " 12  fins         101 non-null    int64 \n",
            " 13  legs         101 non-null    int64 \n",
            " 14  tail         101 non-null    int64 \n",
            " 15  domestic     101 non-null    int64 \n",
            " 16  catsize      101 non-null    int64 \n",
            " 17  type         101 non-null    int64 \n",
            "dtypes: int64(17), object(1)\n",
            "memory usage: 14.3+ KB\n"
          ]
        }
      ],
      "source": [
        "zoo_data.info()"
      ]
    },
    {
      "cell_type": "markdown",
      "metadata": {
        "id": "NpgBXInYw6SH"
      },
      "source": [
        "### Dropping the animal name column, since it doesn't contribute in categorising the animals"
      ]
    },
    {
      "cell_type": "code",
      "execution_count": 15,
      "metadata": {
        "id": "jxceyC3vw6SI"
      },
      "outputs": [],
      "source": [
        "zoo_data.drop(['animal name'],axis=1,inplace=True)"
      ]
    },
    {
      "cell_type": "markdown",
      "metadata": {
        "id": "tITclSi3w6SI"
      },
      "source": [
        "### Extracting the independent and dependent variables from the input dataset"
      ]
    },
    {
      "cell_type": "code",
      "execution_count": 16,
      "metadata": {
        "id": "1WhS9qSFw6SJ"
      },
      "outputs": [],
      "source": [
        "x=zoo_data.iloc[:,:16].values\n",
        "y=zoo_data.iloc[:,16].values"
      ]
    },
    {
      "cell_type": "code",
      "execution_count": 17,
      "metadata": {
        "colab": {
          "base_uri": "https://localhost:8080/",
          "height": 283
        },
        "id": "HeR5fP25w6SK",
        "outputId": "ff9d9e1e-30e0-4ec5-b848-1a4e439ec72b"
      },
      "outputs": [
        {
          "output_type": "execute_result",
          "data": {
            "text/plain": [
              "<matplotlib.axes._subplots.AxesSubplot at 0x7f6386558a10>"
            ]
          },
          "metadata": {},
          "execution_count": 17
        },
        {
          "output_type": "display_data",
          "data": {
            "text/plain": [
              "<Figure size 432x288 with 1 Axes>"
            ],
            "image/png": "[encoded data removed]"
          },
          "metadata": {
            "needs_background": "light"
          }
        }
      ],
      "source": [
        "sns.distplot(zoo_data)"
      ]
    },
    {
      "cell_type": "markdown",
      "metadata": {
        "id": "UO5NxOM1w6SL"
      },
      "source": [
        "### Splitting the data into train and test datasets"
      ]
    },
    {
      "cell_type": "code",
      "execution_count": 18,
      "metadata": {
        "id": "RONdqy6-w6SL"
      },
      "outputs": [],
      "source": [
        "x_train,x_test,y_train,y_test=train_test_split(x,y,test_size=0.2,random_state=7)"
      ]
    },
    {
      "cell_type": "markdown",
      "source": [
        "# visualization"
      ],
      "metadata": {
        "id": "OFPRY8bKxGrM"
      }
    },
    {
      "cell_type": "code",
      "source": [
        "cor = zoo_data.corr()\n",
        "cor"
      ],
      "metadata": {
        "colab": {
          "base_uri": "https://localhost:8080/",
          "height": 646
        },
        "id": "Odv7Bw44xNHM",
        "outputId": "1bb7bf9c-7afc-4910-a32b-d5ca2cf03480"
      },
      "execution_count": 19,
      "outputs": [
        {
          "output_type": "execute_result",
          "data": {
            "text/plain": [
              "              hair  feathers      eggs      milk  airborne   aquatic  \\\n",
              "hair      1.000000 -0.427851 -0.817382  0.878503 -0.198431 -0.473554   \n",
              "feathers -0.427851  1.000000  0.419248 -0.410761  0.656553 -0.058552   \n",
              "eggs     -0.817382  0.419248  1.000000 -0.938848  0.376646  0.376244   \n",
              "milk      0.878503 -0.410761 -0.938848  1.000000 -0.366765 -0.362613   \n",
              "airborne -0.198431  0.656553  0.376646 -0.366765  1.000000 -0.172638   \n",
              "aquatic  -0.473554 -0.058552  0.376244 -0.362613 -0.172638  1.000000   \n",
              "predator -0.154769 -0.104430  0.011605 -0.029721 -0.295181  0.375978   \n",
              "toothed   0.492531 -0.613631 -0.642150  0.628168 -0.594311  0.053150   \n",
              "backbone  0.191681  0.231403 -0.340420  0.384958 -0.104718  0.022463   \n",
              "breathes  0.441149  0.254588 -0.382777  0.423527  0.286039 -0.637506   \n",
              "venomous -0.104245 -0.145739  0.098689 -0.242449  0.008528  0.087915   \n",
              "fins     -0.280313 -0.223541  0.164796 -0.156328 -0.251157  0.604492   \n",
              "legs      0.394009 -0.206686 -0.224918  0.214196  0.043712 -0.360638   \n",
              "tail      0.048973  0.292569 -0.221090  0.210026  0.009482 -0.034642   \n",
              "domestic  0.207208  0.031586 -0.155610  0.163928  0.063274 -0.224308   \n",
              "catsize   0.455020 -0.135934 -0.514650  0.574906 -0.349768 -0.111866   \n",
              "type     -0.562384 -0.197520  0.661825 -0.723683  0.022677  0.326639   \n",
              "\n",
              "          predator   toothed  backbone  breathes  venomous      fins  \\\n",
              "hair     -0.154769  0.492531  0.191681  0.441149 -0.104245 -0.280313   \n",
              "feathers -0.104430 -0.613631  0.231403  0.254588 -0.145739 -0.223541   \n",
              "eggs      0.011605 -0.642150 -0.340420 -0.382777  0.098689  0.164796   \n",
              "milk     -0.029721  0.628168  0.384958  0.423527 -0.242449 -0.156328   \n",
              "airborne -0.295181 -0.594311 -0.104718  0.286039  0.008528 -0.251157   \n",
              "aquatic   0.375978  0.053150  0.022463 -0.637506  0.087915  0.604492   \n",
              "predator  1.000000  0.129452  0.051022 -0.262931  0.115391  0.190302   \n",
              "toothed   0.129452  1.000000  0.575085 -0.065690 -0.062344  0.364292   \n",
              "backbone  0.051022  0.575085  1.000000  0.207666 -0.246611  0.209499   \n",
              "breathes -0.262931 -0.065690  0.207666  1.000000 -0.120752 -0.617219   \n",
              "venomous  0.115391 -0.062344 -0.246611 -0.120752  1.000000 -0.033956   \n",
              "fins      0.190302  0.364292  0.209499 -0.617219 -0.033956  1.000000   \n",
              "legs     -0.099723 -0.193476 -0.432856  0.369868  0.022964 -0.605652   \n",
              "tail      0.018947  0.310368  0.731762  0.088952 -0.162724  0.204349   \n",
              "domestic -0.309794  0.069430  0.101733  0.124068 -0.003252 -0.093887   \n",
              "catsize   0.144790  0.344010  0.356976  0.204125 -0.183748  0.031705   \n",
              "type      0.061179 -0.471527 -0.828845 -0.519308  0.321476  0.099430   \n",
              "\n",
              "              legs      tail  domestic   catsize      type  \n",
              "hair      0.394009  0.048973  0.207208  0.455020 -0.562384  \n",
              "feathers -0.206686  0.292569  0.031586 -0.135934 -0.197520  \n",
              "eggs     -0.224918 -0.221090 -0.155610 -0.514650  0.661825  \n",
              "milk      0.214196  0.210026  0.163928  0.574906 -0.723683  \n",
              "airborne  0.043712  0.009482  0.063274 -0.349768  0.022677  \n",
              "aquatic  -0.360638 -0.034642 -0.224308 -0.111866  0.326639  \n",
              "predator -0.099723  0.018947 -0.309794  0.144790  0.061179  \n",
              "toothed  -0.193476  0.310368  0.069430  0.344010 -0.471527  \n",
              "backbone -0.432856  0.731762  0.101733  0.356976 -0.828845  \n",
              "breathes  0.369868  0.088952  0.124068  0.204125 -0.519308  \n",
              "venomous  0.022964 -0.162724 -0.003252 -0.183748  0.321476  \n",
              "fins     -0.605652  0.204349 -0.093887  0.031705  0.099430  \n",
              "legs      1.000000 -0.348295  0.073931  0.068791  0.131693  \n",
              "tail     -0.348295  1.000000  0.023434  0.243277 -0.631830  \n",
              "domestic  0.073931  0.023434  1.000000  0.020073 -0.181043  \n",
              "catsize   0.068791  0.243277  0.020073  1.000000 -0.521030  \n",
              "type      0.131693 -0.631830 -0.181043 -0.521030  1.000000  "
            ],
            "text/html": [
              "\n",
              "  <div id=\"df-946b60f2-2467-4ddb-91ac-512ebeb1ff5b\">\n",
              "    <div class=\"colab-df-container\">\n",
              "      <div>\n",
              "<style scoped>\n",
              "    .dataframe tbody tr th:only-of-type {\n",
              "        vertical-align: middle;\n",
              "    }\n",
              "\n",
              "    .dataframe tbody tr th {\n",
              "        vertical-align: top;\n",
              "    }\n",
              "\n",
              "    .dataframe thead th {\n",
              "        text-align: right;\n",
              "    }\n",
              "</style>\n",
              "<table border=\"1\" class=\"dataframe\">\n",
              "  <thead>\n",
              "    <tr style=\"text-align: right;\">\n",
              "      <th></th>\n",
              "      <th>hair</th>\n",
              "      <th>feathers</th>\n",
              "      <th>eggs</th>\n",
              "      <th>milk</th>\n",
              "      <th>airborne</th>\n",
              "      <th>aquatic</th>\n",
              "      <th>predator</th>\n",
              "      <th>toothed</th>\n",
              "      <th>backbone</th>\n",
              "      <th>breathes</th>\n",
              "      <th>venomous</th>\n",
              "      <th>fins</th>\n",
              "      <th>legs</th>\n",
              "      <th>tail</th>\n",
              "      <th>domestic</th>\n",
              "      <th>catsize</th>\n",
              "      <th>type</th>\n",
              "    </tr>\n",
              "  </thead>\n",
              "  <tbody>\n",
              "    <tr>\n",
              "      <th>hair</th>\n",
              "      <td>1.000000</td>\n",
              "      <td>-0.427851</td>\n",
              "      <td>-0.817382</td>\n",
              "      <td>0.878503</td>\n",
              "      <td>-0.198431</td>\n",
              "      <td>-0.473554</td>\n",
              "      <td>-0.154769</td>\n",
              "      <td>0.492531</td>\n",
              "      <td>0.191681</td>\n",
              "      <td>0.441149</td>\n",
              "      <td>-0.104245</td>\n",
              "      <td>-0.280313</td>\n",
              "      <td>0.394009</td>\n",
              "      <td>0.048973</td>\n",
              "      <td>0.207208</td>\n",
              "      <td>0.455020</td>\n",
              "      <td>-0.562384</td>\n",
              "    </tr>\n",
              "    <tr>\n",
              "      <th>feathers</th>\n",
              "      <td>-0.427851</td>\n",
              "      <td>1.000000</td>\n",
              "      <td>0.419248</td>\n",
              "      <td>-0.410761</td>\n",
              "      <td>0.656553</td>\n",
              "      <td>-0.058552</td>\n",
              "      <td>-0.104430</td>\n",
              "      <td>-0.613631</td>\n",
              "      <td>0.231403</td>\n",
              "      <td>0.254588</td>\n",
              "      <td>-0.145739</td>\n",
              "      <td>-0.223541</td>\n",
              "      <td>-0.206686</td>\n",
              "      <td>0.292569</td>\n",
              "      <td>0.031586</td>\n",
              "      <td>-0.135934</td>\n",
              "      <td>-0.197520</td>\n",
              "    </tr>\n",
              "    <tr>\n",
              "      <th>eggs</th>\n",
              "      <td>-0.817382</td>\n",
              "      <td>0.419248</td>\n",
              "      <td>1.000000</td>\n",
              "      <td>-0.938848</td>\n",
              "      <td>0.376646</td>\n",
              "      <td>0.376244</td>\n",
              "      <td>0.011605</td>\n",
              "      <td>-0.642150</td>\n",
              "      <td>-0.340420</td>\n",
              "      <td>-0.382777</td>\n",
              "      <td>0.098689</td>\n",
              "      <td>0.164796</td>\n",
              "      <td>-0.224918</td>\n",
              "      <td>-0.221090</td>\n",
              "      <td>-0.155610</td>\n",
              "      <td>-0.514650</td>\n",
              "      <td>0.661825</td>\n",
              "    </tr>\n",
              "    <tr>\n",
              "      <th>milk</th>\n",
              "      <td>0.878503</td>\n",
              "      <td>-0.410761</td>\n",
              "      <td>-0.938848</td>\n",
              "      <td>1.000000</td>\n",
              "      <td>-0.366765</td>\n",
              "      <td>-0.362613</td>\n",
              "      <td>-0.029721</td>\n",
              "      <td>0.628168</td>\n",
              "      <td>0.384958</td>\n",
              "      <td>0.423527</td>\n",
              "      <td>-0.242449</td>\n",
              "      <td>-0.156328</td>\n",
              "      <td>0.214196</td>\n",
              "      <td>0.210026</td>\n",
              "      <td>0.163928</td>\n",
              "      <td>0.574906</td>\n",
              "      <td>-0.723683</td>\n",
              "    </tr>\n",
              "    <tr>\n",
              "      <th>airborne</th>\n",
              "      <td>-0.198431</td>\n",
              "      <td>0.656553</td>\n",
              "      <td>0.376646</td>\n",
              "      <td>-0.366765</td>\n",
              "      <td>1.000000</td>\n",
              "      <td>-0.172638</td>\n",
              "      <td>-0.295181</td>\n",
              "      <td>-0.594311</td>\n",
              "      <td>-0.104718</td>\n",
              "      <td>0.286039</td>\n",
              "      <td>0.008528</td>\n",
              "      <td>-0.251157</td>\n",
              "      <td>0.043712</td>\n",
              "      <td>0.009482</td>\n",
              "      <td>0.063274</td>\n",
              "      <td>-0.349768</td>\n",
              "      <td>0.022677</td>\n",
              "    </tr>\n",
              "    <tr>\n",
              "      <th>aquatic</th>\n",
              "      <td>-0.473554</td>\n",
              "      <td>-0.058552</td>\n",
              "      <td>0.376244</td>\n",
              "      <td>-0.362613</td>\n",
              "      <td>-0.172638</td>\n",
              "      <td>1.000000</td>\n",
              "      <td>0.375978</td>\n",
              "      <td>0.053150</td>\n",
              "      <td>0.022463</td>\n",
              "      <td>-0.637506</td>\n",
              "      <td>0.087915</td>\n",
              "      <td>0.604492</td>\n",
              "      <td>-0.360638</td>\n",
              "      <td>-0.034642</td>\n",
              "      <td>-0.224308</td>\n",
              "      <td>-0.111866</td>\n",
              "      <td>0.326639</td>\n",
              "    </tr>\n",
              "    <tr>\n",
              "      <th>predator</th>\n",
              "      <td>-0.154769</td>\n",
              "      <td>-0.104430</td>\n",
              "      <td>0.011605</td>\n",
              "      <td>-0.029721</td>\n",
              "      <td>-0.295181</td>\n",
              "      <td>0.375978</td>\n",
              "      <td>1.000000</td>\n",
              "      <td>0.129452</td>\n",
              "      <td>0.051022</td>\n",
              "      <td>-0.262931</td>\n",
              "      <td>0.115391</td>\n",
              "      <td>0.190302</td>\n",
              "      <td>-0.099723</td>\n",
              "      <td>0.018947</td>\n",
              "      <td>-0.309794</td>\n",
              "      <td>0.144790</td>\n",
              "      <td>0.061179</td>\n",
              "    </tr>\n",
              "    <tr>\n",
              "      <th>toothed</th>\n",
              "      <td>0.492531</td>\n",
              "      <td>-0.613631</td>\n",
              "      <td>-0.642150</td>\n",
              "      <td>0.628168</td>\n",
              "      <td>-0.594311</td>\n",
              "      <td>0.053150</td>\n",
              "      <td>0.129452</td>\n",
              "      <td>1.000000</td>\n",
              "      <td>0.575085</td>\n",
              "      <td>-0.065690</td>\n",
              "      <td>-0.062344</td>\n",
              "      <td>0.364292</td>\n",
              "      <td>-0.193476</td>\n",
              "      <td>0.310368</td>\n",
              "      <td>0.069430</td>\n",
              "      <td>0.344010</td>\n",
              "      <td>-0.471527</td>\n",
              "    </tr>\n",
              "    <tr>\n",
              "      <th>backbone</th>\n",
              "      <td>0.191681</td>\n",
              "      <td>0.231403</td>\n",
              "      <td>-0.340420</td>\n",
              "      <td>0.384958</td>\n",
              "      <td>-0.104718</td>\n",
              "      <td>0.022463</td>\n",
              "      <td>0.051022</td>\n",
              "      <td>0.575085</td>\n",
              "      <td>1.000000</td>\n",
              "      <td>0.207666</td>\n",
              "      <td>-0.246611</td>\n",
              "      <td>0.209499</td>\n",
              "      <td>-0.432856</td>\n",
              "      <td>0.731762</td>\n",
              "      <td>0.101733</td>\n",
              "      <td>0.356976</td>\n",
              "      <td>-0.828845</td>\n",
              "    </tr>\n",
              "    <tr>\n",
              "      <th>breathes</th>\n",
              "      <td>0.441149</td>\n",
              "      <td>0.254588</td>\n",
              "      <td>-0.382777</td>\n",
              "      <td>0.423527</td>\n",
              "      <td>0.286039</td>\n",
              "      <td>-0.637506</td>\n",
              "      <td>-0.262931</td>\n",
              "      <td>-0.065690</td>\n",
              "      <td>0.207666</td>\n",
              "      <td>1.000000</td>\n",
              "      <td>-0.120752</td>\n",
              "      <td>-0.617219</td>\n",
              "      <td>0.369868</td>\n",
              "      <td>0.088952</td>\n",
              "      <td>0.124068</td>\n",
              "      <td>0.204125</td>\n",
              "      <td>-0.519308</td>\n",
              "    </tr>\n",
              "    <tr>\n",
              "      <th>venomous</th>\n",
              "      <td>-0.104245</td>\n",
              "      <td>-0.145739</td>\n",
              "      <td>0.098689</td>\n",
              "      <td>-0.242449</td>\n",
              "      <td>0.008528</td>\n",
              "      <td>0.087915</td>\n",
              "      <td>0.115391</td>\n",
              "      <td>-0.062344</td>\n",
              "      <td>-0.246611</td>\n",
              "      <td>-0.120752</td>\n",
              "      <td>1.000000</td>\n",
              "      <td>-0.033956</td>\n",
              "      <td>0.022964</td>\n",
              "      <td>-0.162724</td>\n",
              "      <td>-0.003252</td>\n",
              "      <td>-0.183748</td>\n",
              "      <td>0.321476</td>\n",
              "    </tr>\n",
              "    <tr>\n",
              "      <th>fins</th>\n",
              "      <td>-0.280313</td>\n",
              "      <td>-0.223541</td>\n",
              "      <td>0.164796</td>\n",
              "      <td>-0.156328</td>\n",
              "      <td>-0.251157</td>\n",
              "      <td>0.604492</td>\n",
              "      <td>0.190302</td>\n",
              "      <td>0.364292</td>\n",
              "      <td>0.209499</td>\n",
              "      <td>-0.617219</td>\n",
              "      <td>-0.033956</td>\n",
              "      <td>1.000000</td>\n",
              "      <td>-0.605652</td>\n",
              "      <td>0.204349</td>\n",
              "      <td>-0.093887</td>\n",
              "      <td>0.031705</td>\n",
              "      <td>0.099430</td>\n",
              "    </tr>\n",
              "    <tr>\n",
              "      <th>legs</th>\n",
              "      <td>0.394009</td>\n",
              "      <td>-0.206686</td>\n",
              "      <td>-0.224918</td>\n",
              "      <td>0.214196</td>\n",
              "      <td>0.043712</td>\n",
              "      <td>-0.360638</td>\n",
              "      <td>-0.099723</td>\n",
              "      <td>-0.193476</td>\n",
              "      <td>-0.432856</td>\n",
              "      <td>0.369868</td>\n",
              "      <td>0.022964</td>\n",
              "      <td>-0.605652</td>\n",
              "      <td>1.000000</td>\n",
              "      <td>-0.348295</td>\n",
              "      <td>0.073931</td>\n",
              "      <td>0.068791</td>\n",
              "      <td>0.131693</td>\n",
              "    </tr>\n",
              "    <tr>\n",
              "      <th>tail</th>\n",
              "      <td>0.048973</td>\n",
              "      <td>0.292569</td>\n",
              "      <td>-0.221090</td>\n",
              "      <td>0.210026</td>\n",
              "      <td>0.009482</td>\n",
              "      <td>-0.034642</td>\n",
              "      <td>0.018947</td>\n",
              "      <td>0.310368</td>\n",
              "      <td>0.731762</td>\n",
              "      <td>0.088952</td>\n",
              "      <td>-0.162724</td>\n",
              "      <td>0.204349</td>\n",
              "      <td>-0.348295</td>\n",
              "      <td>1.000000</td>\n",
              "      <td>0.023434</td>\n",
              "      <td>0.243277</td>\n",
              "      <td>-0.631830</td>\n",
              "    </tr>\n",
              "    <tr>\n",
              "      <th>domestic</th>\n",
              "      <td>0.207208</td>\n",
              "      <td>0.031586</td>\n",
              "      <td>-0.155610</td>\n",
              "      <td>0.163928</td>\n",
              "      <td>0.063274</td>\n",
              "      <td>-0.224308</td>\n",
              "      <td>-0.309794</td>\n",
              "      <td>0.069430</td>\n",
              "      <td>0.101733</td>\n",
              "      <td>0.124068</td>\n",
              "      <td>-0.003252</td>\n",
              "      <td>-0.093887</td>\n",
              "      <td>0.073931</td>\n",
              "      <td>0.023434</td>\n",
              "      <td>1.000000</td>\n",
              "      <td>0.020073</td>\n",
              "      <td>-0.181043</td>\n",
              "    </tr>\n",
              "    <tr>\n",
              "      <th>catsize</th>\n",
              "      <td>0.455020</td>\n",
              "      <td>-0.135934</td>\n",
              "      <td>-0.514650</td>\n",
              "      <td>0.574906</td>\n",
              "      <td>-0.349768</td>\n",
              "      <td>-0.111866</td>\n",
              "      <td>0.144790</td>\n",
              "      <td>0.344010</td>\n",
              "      <td>0.356976</td>\n",
              "      <td>0.204125</td>\n",
              "      <td>-0.183748</td>\n",
              "      <td>0.031705</td>\n",
              "      <td>0.068791</td>\n",
              "      <td>0.243277</td>\n",
              "      <td>0.020073</td>\n",
              "      <td>1.000000</td>\n",
              "      <td>-0.521030</td>\n",
              "    </tr>\n",
              "    <tr>\n",
              "      <th>type</th>\n",
              "      <td>-0.562384</td>\n",
              "      <td>-0.197520</td>\n",
              "      <td>0.661825</td>\n",
              "      <td>-0.723683</td>\n",
              "      <td>0.022677</td>\n",
              "      <td>0.326639</td>\n",
              "      <td>0.061179</td>\n",
              "      <td>-0.471527</td>\n",
              "      <td>-0.828845</td>\n",
              "      <td>-0.519308</td>\n",
              "      <td>0.321476</td>\n",
              "      <td>0.099430</td>\n",
              "      <td>0.131693</td>\n",
              "      <td>-0.631830</td>\n",
              "      <td>-0.181043</td>\n",
              "      <td>-0.521030</td>\n",
              "      <td>1.000000</td>\n",
              "    </tr>\n",
              "  </tbody>\n",
              "</table>\n",
              "</div>\n",
              "      <button class=\"colab-df-convert\" onclick=\"convertToInteractive('df-946b60f2-2467-4ddb-91ac-512ebeb1ff5b')\"\n",
              "              title=\"Convert this dataframe to an interactive table.\"\n",
              "              style=\"display:none;\">\n",
              "        \n",
              "  <svg xmlns=\"http://www.w3.org/2000/svg\" height=\"24px\"viewBox=\"0 0 24 24\"\n",
              "       width=\"24px\">\n",
              "    <path d=\"M0 0h24v24H0V0z\" fill=\"none\"/>\n",
              "    <path d=\"M18.56 5.44l.94 2.06.94-2.06 2.06-.94-2.06-.94-.94-2.06-.94 2.06-2.06.94zm-11 1L8.5 8.5l.94-2.06 2.06-.94-2.06-.94L8.5 2.5l-.94 2.06-2.06.94zm10 10l.94 2.06.94-2.06 2.06-.94-2.06-.94-.94-2.06-.94 2.06-2.06.94z\"/><path d=\"M17.41 7.96l-1.37-1.37c-.4-.4-.92-.59-1.43-.59-.52 0-1.04.2-1.43.59L10.3 9.45l-7.72 7.72c-.78.78-.78 2.05 0 2.83L4 21.41c.39.39.9.59 1.41.59.51 0 1.02-.2 1.41-.59l7.78-7.78 2.81-2.81c.8-.78.8-2.07 0-2.86zM5.41 20L4 18.59l7.72-7.72 1.47 1.35L5.41 20z\"/>\n",
              "  </svg>\n",
              "      </button>\n",
              "      \n",
              "  <style>\n",
              "    .colab-df-container {\n",
              "      display:flex;\n",
              "      flex-wrap:wrap;\n",
              "      gap: 12px;\n",
              "    }\n",
              "\n",
              "    .colab-df-convert {\n",
              "      background-color: #E8F0FE;\n",
              "      border: none;\n",
              "      border-radius: 50%;\n",
              "      cursor: pointer;\n",
              "      display: none;\n",
              "      fill: #1967D2;\n",
              "      height: 32px;\n",
              "      padding: 0 0 0 0;\n",
              "      width: 32px;\n",
              "    }\n",
              "\n",
              "    .colab-df-convert:hover {\n",
              "      background-color: #E2EBFA;\n",
              "      box-shadow: 0px 1px 2px rgba(60, 64, 67, 0.3), 0px 1px 3px 1px rgba(60, 64, 67, 0.15);\n",
              "      fill: #174EA6;\n",
              "    }\n",
              "\n",
              "    [theme=dark] .colab-df-convert {\n",
              "      background-color: #3B4455;\n",
              "      fill: #D2E3FC;\n",
              "    }\n",
              "\n",
              "    [theme=dark] .colab-df-convert:hover {\n",
              "      background-color: #434B5C;\n",
              "      box-shadow: 0px 1px 3px 1px rgba(0, 0, 0, 0.15);\n",
              "      filter: drop-shadow(0px 1px 2px rgba(0, 0, 0, 0.3));\n",
              "      fill: #FFFFFF;\n",
              "    }\n",
              "  </style>\n",
              "\n",
              "      <script>\n",
              "        const buttonEl =\n",
              "          document.querySelector('#df-946b60f2-2467-4ddb-91ac-512ebeb1ff5b button.colab-df-convert');\n",
              "        buttonEl.style.display =\n",
              "          google.colab.kernel.accessAllowed ? 'block' : 'none';\n",
              "\n",
              "        async function convertToInteractive(key) {\n",
              "          const element = document.querySelector('#df-946b60f2-2467-4ddb-91ac-512ebeb1ff5b');\n",
              "          const dataTable =\n",
              "            await google.colab.kernel.invokeFunction('convertToInteractive',\n",
              "                                                     [key], {});\n",
              "          if (!dataTable) return;\n",
              "\n",
              "          const docLinkHtml = 'Like what you see? Visit the ' +\n",
              "            '<a target=\"_blank\" href=https://colab.research.google.com/notebooks/data_table.ipynb>data table notebook</a>'\n",
              "            + ' to learn more about interactive tables.';\n",
              "          element.innerHTML = '';\n",
              "          dataTable['output_type'] = 'display_data';\n",
              "          await google.colab.output.renderOutput(dataTable, element);\n",
              "          const docLink = document.createElement('div');\n",
              "          docLink.innerHTML = docLinkHtml;\n",
              "          element.appendChild(docLink);\n",
              "        }\n",
              "      </script>\n",
              "    </div>\n",
              "  </div>\n",
              "  "
            ]
          },
          "metadata": {},
          "execution_count": 19
        }
      ]
    },
    {
      "cell_type": "code",
      "source": [
        "plt.figure(figsize=(15,8))\n",
        "sns.heatmap(cor,annot = True)"
      ],
      "metadata": {
        "colab": {
          "base_uri": "https://localhost:8080/",
          "height": 528
        },
        "id": "OlGfKeIMxNZ1",
        "outputId": "7f010797-2011-47a6-850d-b364f2148ecf"
      },
      "execution_count": 20,
      "outputs": [
        {
          "output_type": "execute_result",
          "data": {
            "text/plain": [
              "<matplotlib.axes._subplots.AxesSubplot at 0x7f6386415490>"
            ]
          },
          "metadata": {},
          "execution_count": 20
        },
        {
          "output_type": "display_data",
          "data": {
            "text/plain": [
              "<Figure size 1080x576 with 2 Axes>"
            ],
            "image/png": "[encoded data removed]"
          },
          "metadata": {
            "needs_background": "light"
          }
        }
      ]
    },
    {
      "cell_type": "code",
      "source": [
        "sns.factorplot('type',data = zoo_data,kind=\"count\",size = 5,aspect = 2)"
      ],
      "metadata": {
        "colab": {
          "base_uri": "https://localhost:8080/",
          "height": 387
        },
        "id": "fMGOjw6ixNrA",
        "outputId": "9d4cdb2d-42a8-4008-9436-3bb918185248"
      },
      "execution_count": 21,
      "outputs": [
        {
          "output_type": "execute_result",
          "data": {
            "text/plain": [
              "<seaborn.axisgrid.FacetGrid at 0x7f6386415310>"
            ]
          },
          "metadata": {},
          "execution_count": 21
        },
        {
          "output_type": "display_data",
          "data": {
            "text/plain": [
              "<Figure size 720x360 with 1 Axes>"
            ],
            "image/png": "[encoded data removed]"
          },
          "metadata": {
            "needs_background": "light"
          }
        }
      ]
    },
    {
      "cell_type": "markdown",
      "metadata": {
        "id": "ZJfaYHxTw6SM"
      },
      "source": [
        "### Constructing a KNN model, considering 7 neighbors"
      ]
    },
    {
      "cell_type": "code",
      "execution_count": 23,
      "metadata": {
        "colab": {
          "base_uri": "https://localhost:8080/"
        },
        "id": "6vqivMHaw6SN",
        "outputId": "3491fdf4-6e44-4e97-fa5b-3ce1a0beb5c0"
      },
      "outputs": [
        {
          "output_type": "execute_result",
          "data": {
            "text/plain": [
              "KNeighborsClassifier(n_neighbors=7)"
            ]
          },
          "metadata": {},
          "execution_count": 23
        }
      ],
      "source": [
        "model=KNeighborsClassifier(n_neighbors=7)\n",
        "model.fit(x_train,y_train)"
      ]
    },
    {
      "cell_type": "markdown",
      "metadata": {
        "id": "IK6Tqpbsw6SO"
      },
      "source": [
        "### Predicting the model on the test data"
      ]
    },
    {
      "cell_type": "code",
      "execution_count": 24,
      "metadata": {
        "id": "1ZGMKXPLw6SO"
      },
      "outputs": [],
      "source": [
        "y_pred=model.predict(x_test)"
      ]
    },
    {
      "cell_type": "code",
      "execution_count": 25,
      "metadata": {
        "colab": {
          "base_uri": "https://localhost:8080/"
        },
        "id": "ymqVO4o3w6SP",
        "outputId": "ddf09d90-5319-4098-e138-05b0550594df"
      },
      "outputs": [
        {
          "output_type": "execute_result",
          "data": {
            "text/plain": [
              "0.8571428571428571"
            ]
          },
          "metadata": {},
          "execution_count": 25
        }
      ],
      "source": [
        "accuracy=accuracy_score(y_test,y_pred)\n",
        "accuracy"
      ]
    },
    {
      "cell_type": "markdown",
      "metadata": {
        "id": "1VY875uiw6SQ"
      },
      "source": [
        "### Using gridsearchCV to identify the best parameter, which gives a higher accuracy in classification"
      ]
    },
    {
      "cell_type": "code",
      "execution_count": 26,
      "metadata": {
        "id": "47jcJYakw6SR"
      },
      "outputs": [],
      "source": [
        "kvalues=np.array(range(1,50))"
      ]
    },
    {
      "cell_type": "code",
      "execution_count": 27,
      "metadata": {
        "id": "Yhbzica5w6SR"
      },
      "outputs": [],
      "source": [
        "parameters=dict(n_neighbors=kvalues)"
      ]
    },
    {
      "cell_type": "code",
      "execution_count": 28,
      "metadata": {
        "id": "CkpJGSsOw6SS"
      },
      "outputs": [],
      "source": [
        "model2=KNeighborsClassifier()\n",
        "grid=GridSearchCV(estimator=model2,param_grid=parameters)"
      ]
    },
    {
      "cell_type": "code",
      "execution_count": 29,
      "metadata": {
        "colab": {
          "base_uri": "https://localhost:8080/"
        },
        "id": "LwEQ_0BJw6ST",
        "outputId": "bbd1def4-31a0-4a45-8a51-e6a4de48e9c9"
      },
      "outputs": [
        {
          "output_type": "execute_result",
          "data": {
            "text/plain": [
              "GridSearchCV(estimator=KNeighborsClassifier(),\n",
              "             param_grid={'n_neighbors': array([ 1,  2,  3,  4,  5,  6,  7,  8,  9, 10, 11, 12, 13, 14, 15, 16, 17,\n",
              "       18, 19, 20, 21, 22, 23, 24, 25, 26, 27, 28, 29, 30, 31, 32, 33, 34,\n",
              "       35, 36, 37, 38, 39, 40, 41, 42, 43, 44, 45, 46, 47, 48, 49])})"
            ]
          },
          "metadata": {},
          "execution_count": 29
        }
      ],
      "source": [
        "grid.fit(x,y)"
      ]
    },
    {
      "cell_type": "code",
      "execution_count": 30,
      "metadata": {
        "colab": {
          "base_uri": "https://localhost:8080/"
        },
        "id": "DJLyM5ZAw6SU",
        "outputId": "25d8438e-70a4-4b4e-c069-0572073d4c68"
      },
      "outputs": [
        {
          "output_type": "stream",
          "name": "stdout",
          "text": [
            "{'n_neighbors': 1} 0.97\n"
          ]
        }
      ],
      "source": [
        "print((grid.best_params_),(grid.best_score_))"
      ]
    },
    {
      "cell_type": "markdown",
      "metadata": {
        "id": "tu9uLugLw6SV"
      },
      "source": [
        "### Visualising different values of neighbors taken in a KNN model Vs it corresponding validation accuracy"
      ]
    },
    {
      "cell_type": "code",
      "execution_count": 31,
      "metadata": {
        "colab": {
          "base_uri": "https://localhost:8080/",
          "height": 279
        },
        "id": "VpdYmqWKw6SV",
        "outputId": "e99c0353-0ba1-45b8-e549-9dee2d241f94"
      },
      "outputs": [
        {
          "output_type": "display_data",
          "data": {
            "text/plain": [
              "<Figure size 432x288 with 1 Axes>"
            ],
            "image/png": "[encoded data removed]"
          },
          "metadata": {
            "needs_background": "light"
          }
        }
      ],
      "source": [
        "k_range = range(1, 50)\n",
        "k_scores = []\n",
        "\n",
        "for k in k_range:\n",
        "    knn = KNeighborsClassifier(n_neighbors=k)\n",
        "    scores = cross_val_score(knn, x, y, cv=5)\n",
        "    k_scores.append(scores.mean())\n",
        "\n",
        "plt.plot(k_range, k_scores)\n",
        "plt.xlabel('Value of K for KNN')\n",
        "plt.ylabel('Cross-Validated Accuracy')\n",
        "plt.show()"
      ]
    },
    {
      "cell_type": "markdown",
      "metadata": {
        "id": "LY988k3Yw6SW"
      },
      "source": [
        "## Conclusion:"
      ]
    },
    {
      "cell_type": "markdown",
      "metadata": {
        "id": "wFijhv5Bw6SW"
      },
      "source": [
        "### Thus, the model we constructed depicts that, it gives the highest classification accuracy for the animal categories in zoo, when we consider just 1 neighbor in the KNN algorithm"
      ]
    }
  ],
  "metadata": {
    "kernelspec": {
      "display_name": "Python 3",
      "language": "python",
      "name": "python3"
    },
    "language_info": {
      "codemirror_mode": {
        "name": "ipython",
        "version": 3
      },
      "file_extension": ".py",
      "mimetype": "text/x-python",
      "name": "python",
      "nbconvert_exporter": "python",
      "pygments_lexer": "ipython3",
      "version": "3.8.8"
    },
    "colab": {
      "provenance": []
    }
  },
  "nbformat": 4,
  "nbformat_minor": 0
}